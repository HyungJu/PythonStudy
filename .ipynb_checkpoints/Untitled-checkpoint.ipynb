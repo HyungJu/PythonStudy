{
 "cells": [
  {
   "cell_type": "code",
   "execution_count": 2,
   "metadata": {},
   "outputs": [
    {
     "data": {
      "text/plain": [
       "True"
      ]
     },
     "execution_count": 2,
     "metadata": {},
     "output_type": "execute_result"
    }
   ],
   "source": [
    "x=100\n",
    "id(x)\n",
    "\n",
    "y=100\n",
    "id(y)\n",
    "\n",
    "id(x) == id(y)"
   ]
  },
  {
   "cell_type": "code",
   "execution_count": 3,
   "metadata": {},
   "outputs": [
    {
     "data": {
      "text/plain": [
       "'Hi'"
      ]
     },
     "execution_count": 3,
     "metadata": {},
     "output_type": "execute_result"
    }
   ],
   "source": [
    "a = '     Hi    '\n",
    "a.strip()"
   ]
  },
  {
   "cell_type": "code",
   "execution_count": 4,
   "metadata": {},
   "outputs": [
    {
     "data": {
      "text/plain": [
       "'Hi    '"
      ]
     },
     "execution_count": 4,
     "metadata": {},
     "output_type": "execute_result"
    }
   ],
   "source": [
    "a = '     Hi    '\n",
    "a.lstrip()"
   ]
  },
  {
   "cell_type": "code",
   "execution_count": 5,
   "metadata": {},
   "outputs": [
    {
     "data": {
      "text/plain": [
       "'     Hi'"
      ]
     },
     "execution_count": 5,
     "metadata": {},
     "output_type": "execute_result"
    }
   ],
   "source": [
    "a = '     Hi    '\n",
    "a.rstrip()"
   ]
  },
  {
   "cell_type": "code",
   "execution_count": 7,
   "metadata": {},
   "outputs": [
    {
     "name": "stdout",
     "output_type": "stream",
     "text": [
      "['Life', 'is', 'too', 'short']\n",
      "Your leg is too short\n"
     ]
    }
   ],
   "source": [
    "s = \"Life is too short\"\n",
    "print(s.split(' '))\n",
    "print(s.replace('Life', 'Your leg'))"
   ]
  },
  {
   "cell_type": "code",
   "execution_count": 10,
   "metadata": {
    "scrolled": false
   },
   "outputs": [
    {
     "name": "stdout",
     "output_type": "stream",
     "text": [
      "이름을 입력하세요dd\n",
      "Welcome !! dd\n"
     ]
    }
   ],
   "source": [
    "name = input('이름을 입력하세요')\n",
    "print(\"Welcome !!\", name)"
   ]
  },
  {
   "cell_type": "code",
   "execution_count": 11,
   "metadata": {},
   "outputs": [
    {
     "name": "stdout",
     "output_type": "stream",
     "text": [
      "값을 입력하세요하위\n",
      "입력한 값은 하위 입니다\n"
     ]
    }
   ],
   "source": [
    "x = input('값을 입력하세요')\n",
    "print('입력한 값은', x , '입니다')"
   ]
  },
  {
   "cell_type": "code",
   "execution_count": 12,
   "metadata": {},
   "outputs": [
    {
     "data": {
      "text/plain": [
       "str"
      ]
     },
     "execution_count": 12,
     "metadata": {},
     "output_type": "execute_result"
    }
   ],
   "source": [
    "type(x)"
   ]
  },
  {
   "cell_type": "code",
   "execution_count": 13,
   "metadata": {},
   "outputs": [
    {
     "name": "stdout",
     "output_type": "stream",
     "text": [
      "당신은 몇 살 인가요? 18\n",
      "당신은 18 살 이군요\n",
      "내년에는 19 살이 됩니다\n"
     ]
    }
   ],
   "source": [
    "age = int(input(\"당신은 몇 살 인가요? \"))\n",
    "print(\"당신은\",age,\"살 이군요\")\n",
    "nextYearAge = age + 1;\n",
    "print(\"내년에는\", nextYearAge, \"살이 됩니다\")"
   ]
  },
  {
   "cell_type": "code",
   "execution_count": 14,
   "metadata": {},
   "outputs": [
    {
     "name": "stdout",
     "output_type": "stream",
     "text": [
      "참석자의 수를 입력하시오:5\n",
      "치킨의 수: 5 마리\n",
      "맥주의 수: 10 캔\n",
      "도넛의 수: 20 개\n"
     ]
    }
   ],
   "source": [
    "people = int(input(\"참석자의 수를 입력하시오:\"))\n",
    "print(\"치킨의 수:\",people,\"마리\")\n",
    "print(\"맥주의 수:\",people * 2,\"캔\")\n",
    "print(\"도넛의 수:\",people * 4,\"개\")"
   ]
  },
  {
   "cell_type": "code",
   "execution_count": 18,
   "metadata": {
    "scrolled": true
   },
   "outputs": [
    {
     "name": "stdout",
     "output_type": "stream",
     "text": [
      "투입한 돈 :3000\n",
      "물건값 :2200\n",
      "거스름돈 : 800\n",
      "500원 동전 : 1\n",
      "100원 동전 : 3\n"
     ]
    }
   ],
   "source": [
    "inputMoney = int(input(\"투입한 돈 :\"))\n",
    "productMoney = int(input(\"물건값 :\"))\n",
    "\n",
    "print(\"거스름돈 :\", inputMoney - productMoney)\n",
    "five = int((inputMoney - productMoney) / 500)\n",
    "one = int((inputMoney - productMoney - five*500) /100)\n",
    "print(\"500원 동전 :\", five)\n",
    "print(\"100원 동전 :\", one)"
   ]
  },
  {
   "cell_type": "code",
   "execution_count": 21,
   "metadata": {},
   "outputs": [
    {
     "name": "stdout",
     "output_type": "stream",
     "text": [
      "주차시간 입력 :30\n",
      "2000\n"
     ]
    }
   ],
   "source": [
    "parkingMin = int(input(\"주차시간 입력 :\"))\n",
    "\n",
    "print(int(parkingMin/15) * 1000)\n"
   ]
  },
  {
   "cell_type": "code",
   "execution_count": 31,
   "metadata": {},
   "outputs": [
    {
     "name": "stdout",
     "output_type": "stream",
     "text": [
      "0\n",
      "1\n",
      "2\n",
      "3\n",
      "4\n",
      "5\n",
      "6\n",
      "7\n",
      "8\n",
      "9\n",
      "10\n",
      "\n",
      "5\n",
      "6\n",
      "7\n",
      "8\n",
      "9\n",
      "10\n",
      "11\n",
      "12\n",
      "13\n",
      "14\n",
      "15\n",
      "\n",
      "2\n",
      "4\n",
      "6\n",
      "8\n",
      "10\n",
      "12\n",
      "14\n",
      "16\n",
      "18\n",
      "20\n",
      "\n",
      "-100\n",
      "-96\n",
      "-92\n",
      "-88\n",
      "-84\n",
      "-80\n",
      "-76\n",
      "-72\n",
      "-68\n",
      "-64\n",
      "-60\n",
      "-56\n",
      "-52\n",
      "-48\n",
      "-44\n",
      "-40\n",
      "-36\n",
      "-32\n",
      "-28\n",
      "-24\n",
      "-20\n",
      "-16\n",
      "-12\n",
      "-8\n",
      "-4\n",
      "0\n",
      "4\n",
      "8\n",
      "12\n",
      "16\n",
      "20\n",
      "24\n",
      "28\n",
      "32\n",
      "36\n",
      "40\n",
      "44\n",
      "48\n",
      "52\n",
      "56\n",
      "60\n",
      "64\n",
      "68\n",
      "72\n",
      "76\n",
      "80\n",
      "84\n",
      "88\n",
      "92\n",
      "96\n",
      "100\n"
     ]
    }
   ],
   "source": [
    "for i in range(0,11):\n",
    "    print(i)\n",
    "print(\"\")\n",
    "for i in range(5,16):\n",
    "    print(i)\n",
    "print(\"\")\n",
    "for i in range(1,22):\n",
    "    if i % 2 == 0:\n",
    "        print(i)\n",
    "print(\"\")\n",
    "for i in range(-100,101):\n",
    "    if i % 4 == 0:\n",
    "        print(i)"
   ]
  },
  {
   "cell_type": "code",
   "execution_count": 32,
   "metadata": {},
   "outputs": [
    {
     "name": "stdout",
     "output_type": "stream",
     "text": [
      "input number :3\n",
      " \n",
      " \n",
      "*\n",
      "\n",
      "\n",
      " \n",
      " \n",
      "*\n",
      "*\n",
      "*\n",
      "\n",
      "\n",
      " \n",
      " \n",
      "*\n",
      "*\n",
      "*\n",
      "*\n",
      "*\n",
      "\n",
      "\n"
     ]
    }
   ],
   "source": [
    "number = int(input(\"input number :\"))\n",
    "for i in range(0, number):\n",
    "    for j in range(0,number-1):\n",
    "        print(\" \", end='')\n",
    "    for j in range(0,1 + i * 2):\n",
    "        print(\"*\", end='')\n",
    "    print(\"\")"
   ]
  },
  {
   "cell_type": "code",
   "execution_count": null,
   "metadata": {},
   "outputs": [],
   "source": []
  }
 ],
 "metadata": {
  "kernelspec": {
   "display_name": "Python 3",
   "language": "python",
   "name": "python3"
  },
  "language_info": {
   "codemirror_mode": {
    "name": "ipython",
    "version": 3
   },
   "file_extension": ".py",
   "mimetype": "text/x-python",
   "name": "python",
   "nbconvert_exporter": "python",
   "pygments_lexer": "ipython3",
   "version": "3.8.3"
  }
 },
 "nbformat": 4,
 "nbformat_minor": 4
}
